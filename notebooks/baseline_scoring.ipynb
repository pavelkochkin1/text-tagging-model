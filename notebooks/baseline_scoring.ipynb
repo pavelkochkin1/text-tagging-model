{
 "cells": [
  {
   "cell_type": "markdown",
   "metadata": {},
   "source": [
    "## Импорты"
   ]
  },
  {
   "cell_type": "code",
   "execution_count": 1,
   "metadata": {},
   "outputs": [],
   "source": [
    "import pandas as pd\n",
    "\n",
    "from text_tagging_model.models.rake_based_model import TagsExtractor\n",
    "from text_tagging_model.models.metrics import rouge_score_corpus"
   ]
  },
  {
   "cell_type": "markdown",
   "metadata": {},
   "source": [
    "## Extractive датасет"
   ]
  },
  {
   "cell_type": "code",
   "execution_count": 2,
   "metadata": {},
   "outputs": [],
   "source": [
    "data = pd.read_csv(\"./resources/data/processed/data_extractive_habr.csv\")\n",
    "\n",
    "X_test = data[\"text\"]\n",
    "y_test = data[\"tag\"].str.split().to_list()"
   ]
  },
  {
   "cell_type": "markdown",
   "metadata": {},
   "source": [
    "## Extractive модель"
   ]
  },
  {
   "cell_type": "code",
   "execution_count": 3,
   "metadata": {},
   "outputs": [
    {
     "name": "stderr",
     "output_type": "stream",
     "text": [
      "[nltk_data] Downloading package stopwords to\n",
      "[nltk_data]     /Users/pavelkockin/nltk_data...\n",
      "[nltk_data]   Package stopwords is already up-to-date!\n",
      "[nltk_data] Downloading package punkt to\n",
      "[nltk_data]     /Users/pavelkockin/nltk_data...\n",
      "[nltk_data]   Package punkt is already up-to-date!\n",
      "[nltk_data] Downloading package stopwords to\n",
      "[nltk_data]     /Users/pavelkockin/nltk_data...\n",
      "[nltk_data]   Package stopwords is already up-to-date!\n"
     ]
    }
   ],
   "source": [
    "model = TagsExtractor(\n",
    "    language=\"russian\",\n",
    "    fasttext_model_path=\"./resources/models/cc.ru.300.bin\",\n",
    ")"
   ]
  },
  {
   "cell_type": "markdown",
   "metadata": {},
   "source": [
    "## Получение тегов"
   ]
  },
  {
   "cell_type": "code",
   "execution_count": 4,
   "metadata": {},
   "outputs": [
    {
     "name": "stderr",
     "output_type": "stream",
     "text": [
      "100%|██████████| 3128/3128 [04:09<00:00, 12.55it/s]\n"
     ]
    }
   ],
   "source": [
    "y_pred = model.extract_for_corpus(X_test, top_n=5)"
   ]
  },
  {
   "cell_type": "markdown",
   "metadata": {},
   "source": [
    "## Подсчет метрик ROUGE"
   ]
  },
  {
   "cell_type": "code",
   "execution_count": 6,
   "metadata": {},
   "outputs": [
    {
     "name": "stderr",
     "output_type": "stream",
     "text": [
      "3128it [00:00, 21632.71it/s]\n"
     ]
    },
    {
     "data": {
      "text/plain": [
       "{'recall': 0.07772707017624733,\n",
       " 'precision': 0.060664730558244596,\n",
       " 'f1': 0.06680929111156135}"
      ]
     },
     "execution_count": 6,
     "metadata": {},
     "output_type": "execute_result"
    }
   ],
   "source": [
    "rouge_score_corpus(y_test, y_pred)"
   ]
  },
  {
   "cell_type": "code",
   "execution_count": 4,
   "metadata": {},
   "outputs": [
    {
     "data": {
      "text/plain": [
       "['пользователь', 'размер', 'товар', 'рекомендация', 'задача']"
      ]
     },
     "execution_count": 4,
     "metadata": {},
     "output_type": "execute_result"
    }
   ],
   "source": [
    "text2 = \"\"\"\n",
    "Использование ML в онлайн-шоппинге не ограничивается рекомендациями товаров. Покупать одежду и обувь проще, когда у любого бренда ты знаешь нужный размер, видишь удачное сочетания товаров и легко находишь похожие внешне или по цвету вещи.\n",
    "В Lamoda Tech мы создаем продукты, которые решают самые разные задачи пользователей и бизнеса. На митапе 28 марта мы рассказали, какие ML-модели работают у нас в проде и как мы строили эту работу. \n",
    "Делимся с вами видео выступлений и презентациями.\n",
    "Data Science в Lamoda: особенности применения ML в Fashion E-commerce\n",
    "Александр Желубенков, Head of Data Science в Lamoda Tech\n",
    "Мы в Lamoda Tech уверены, что онлайн-шоппинг должен быть удобным и вдохновляющим. На нашей платформе работают десятки data-продуктов, которые обеспечивают такой опыт для пользователей: они ранжируют каталог и предлагают персональные рекомендации, собирают образы и управляют ценообразованием на платформе.\n",
    "В выступлении Саша рассказывает, с какими сложностями сталкивается команда при работе с разными задачами и что важно учитывать для успешного внедрения ML в Fashion E-commerce. \n",
    "Рекомендация размера с помощью машинного обучения\n",
    "Никита Чуркин, Teamlead of Personalisation в Lamoda Tech\n",
    "Онлайн-покупка обуви и одежды кажется простой задачей ровно до тех пор, пока вы не сталкиваетесь с выбором размера. Как выбрать подходящий? Что делать, если у товара незнакомая размерная сетка? А вдруг товар большемерит или маломерит? \n",
    "В Lamoda на помощь в выборе пришли ML-модели. С чего начинались первые тесты и как эволюционировала рекомендация размера — узнаете в докладе Никиты.\n",
    "В поисках стиля: Deep Learning в fashion-индустрии\n",
    "Илья Черников, Senior Data Scientist в Lamoda Tech\n",
    "Поисковые алгоритмы легко справляются с простыми запросами на «спортивные брюки» или «белые кроссовки». Но фантазия и желания пользователей всегда шире, чем мы можем представить. Как найти «изумрудное платье» или «нарядный костюм»? \n",
    "Илья рассказывает о нейросетевом подходе к поиску и дополнении языковых моделей компьютерным зрением. Подробнее о том, как это решение получило развитие в генерацию образов, смотрите в выступлении.\n",
    "После докладов мы успели не только пообщаться за пиццей, но и поиграть в настольный теннис. Ищите себя на фотографиях, если были с нами в офисе!\n",
    "\"\"\"\n",
    "model.extract(text2, 5)"
   ]
  },
  {
   "cell_type": "code",
   "execution_count": 5,
   "metadata": {},
   "outputs": [
    {
     "data": {
      "text/plain": [
       "['яндекс', 'студкемп', 'наука', 'обучение', 'студент']"
      ]
     },
     "execution_count": 5,
     "metadata": {},
     "output_type": "execute_result"
    }
   ],
   "source": [
    "text2 = \"\"\"Яндекс открыл набор на студкемпы — бесплатные сверхинтенсивные программы для студентов IT-специальностей. \n",
    "За две недели студенты изучат материал, на освоение которого в рамках традиционных программ уходит от пары месяцев до нескольких семестров. \n",
    "Они получат фундаментальные знания в области искусственного интеллекта, а также познакомятся с практиками применения нейросетей в сервисах Яндекса. \n",
    "В 2024 году пройдут четыре очных студкемпа, участвовать в которых могут студенты вузов из всех регионов России.\n",
    "Каждый студкемп посвящен одной из областей компьютерных наук: разработке ПО, машинному обучению, науке о данных и искусственному интеллекту. Авторы и преподаватели — эксперты Яндекса и Школы анализа данных, а также исследователи и преподаватели ведущих российских вузов. Обучение проходит на площадках партнёров: НИУ ВШЭ, Университет ИТМО, Университет Иннополис и УрФУ.\n",
    "С 1 по 13 апреля в Москве пройдет студкемп по машинному обучению на базе факультета компьютерных наук НИУ ВШЭ. Участники познакомятся с современными подходами в NLP и глубоком обучении, освоят методы сбора данных, в том числе с помощью YandexGPT, и научатся визуализировать результаты при помощи фреймворков. Во время итогового проекта студенты создадут MVP системы для решения задачи обработки естественного языка.\"\"\"\n",
    "model.extract(text2, 5)"
   ]
  },
  {
   "cell_type": "code",
   "execution_count": 6,
   "metadata": {},
   "outputs": [
    {
     "data": {
      "text/plain": [
       "['модель', 'задача', 'метод', 'студент', 'учитель']"
      ]
     },
     "execution_count": 6,
     "metadata": {},
     "output_type": "execute_result"
    },
    {
     "ename": "",
     "evalue": "",
     "output_type": "error",
     "traceback": [
      "\u001b[1;31mThe Kernel crashed while executing code in the current cell or a previous cell. \n",
      "\u001b[1;31mPlease review the code in the cell(s) to identify a possible cause of the failure. \n",
      "\u001b[1;31mClick <a href='https://aka.ms/vscodeJupyterKernelCrash'>here</a> for more info. \n",
      "\u001b[1;31mView Jupyter <a href='command:jupyter.viewOutput'>log</a> for further details."
     ]
    }
   ],
   "source": [
    "source_text = \"\"\"\n",
    "    Методы ускорения инференса.\n",
    "    Дистилляция\n",
    "    Обычно в этом методе есть какая-то большая модель, которую мы называем учитель (teacher),\n",
    "    и модель поменьше — студент (student). Хорошим примером будет YandexGPT 3 — большая LLM,\n",
    "    способная решать задачу с наилучшим качеством, но она совершенно не укладывается\n",
    "    в наш вычислительный бюджет. Есть модель поменьше, вроде Т5, которая потребляет\n",
    "    сильно меньше ресурсов, но не решает задачу так же качественно, как YandexGPT 3.\n",
    "    Задача Knowledge Distillation состоит в том,\n",
    "    чтобы минимизировать потери (loss) между фичами — предсказаниями учителя и студента.\n",
    "\"\"\"\n",
    "model.extract(source_text, 5)"
   ]
  },
  {
   "cell_type": "code",
   "execution_count": null,
   "metadata": {},
   "outputs": [],
   "source": []
  }
 ],
 "metadata": {
  "kernelspec": {
   "display_name": ".venv",
   "language": "python",
   "name": "python3"
  },
  "language_info": {
   "codemirror_mode": {
    "name": "ipython",
    "version": 3
   },
   "file_extension": ".py",
   "mimetype": "text/x-python",
   "name": "python",
   "nbconvert_exporter": "python",
   "pygments_lexer": "ipython3",
   "version": "3.9.6"
  }
 },
 "nbformat": 4,
 "nbformat_minor": 2
}
